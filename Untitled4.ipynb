{
  "nbformat": 4,
  "nbformat_minor": 0,
  "metadata": {
    "colab": {
      "name": "Untitled4.ipynb",
      "version": "0.3.2",
      "provenance": [],
      "include_colab_link": true
    },
    "kernelspec": {
      "name": "python3",
      "display_name": "Python 3"
    },
    "accelerator": "GPU"
  },
  "cells": [
    {
      "cell_type": "markdown",
      "metadata": {
        "id": "view-in-github",
        "colab_type": "text"
      },
      "source": [
        "<a href=\"https://colab.research.google.com/github/abhisri7635/Boardgame/blob/master/Untitled4.ipynb\" target=\"_parent\"><img src=\"https://colab.research.google.com/assets/colab-badge.svg\" alt=\"Open In Colab\"/></a>"
      ]
    },
    {
      "metadata": {
        "id": "p8hHBAd6TiQY",
        "colab_type": "code",
        "colab": {}
      },
      "cell_type": "code",
      "source": [
        "!pip install -U -q PyDrive\n",
        "from pydrive.auth import GoogleAuth\n",
        "from pydrive.drive import GoogleDrive\n",
        "from google.colab import auth\n",
        "from oauth2client.client import GoogleCredentials\n",
        "\n",
        "# 1. Authenticate and create the PyDrive client.\n",
        "auth.authenticate_user()\n",
        "gauth = GoogleAuth()\n",
        "gauth.credentials = GoogleCredentials.get_application_default()\n",
        "drive = GoogleDrive(gauth)"
      ],
      "execution_count": 0,
      "outputs": []
    },
    {
      "metadata": {
        "id": "9ya-SUCjVUSU",
        "colab_type": "code",
        "colab": {}
      },
      "cell_type": "code",
      "source": [
        "downloaded = drive.CreateFile({'id':'1CbK4yU-3MH81_0BDWwHujWuL5GOE2bue'}) # replace the id with id (google drive sharable link), \n",
        "downloaded.GetContentFile('boardgamegeek.zip')"
      ],
      "execution_count": 0,
      "outputs": []
    },
    {
      "metadata": {
        "id": "nKQ1xROqa7kd",
        "colab_type": "code",
        "colab": {}
      },
      "cell_type": "code",
      "source": [
        "import zipfile # for unzipping the files, all will be stores in local Virtual Machine\n",
        "zip_ref = zipfile.ZipFile('boardgamegeek.zip', 'r')\n",
        "zip_ref.extractall()\n",
        "zip_ref.close()"
      ],
      "execution_count": 0,
      "outputs": []
    },
    {
      "metadata": {
        "id": "Pu0FIl6-bMlm",
        "colab_type": "code",
        "outputId": "e7633759-5dea-4a4e-d762-876d3cad529c",
        "colab": {
          "base_uri": "https://localhost:8080/",
          "height": 534
        }
      },
      "cell_type": "code",
      "source": [
        "import pandas\n",
        "import matplotlib.pyplot as plt\n",
        "import seaborn as sns\n",
        "from sklearn.model_selection import train_test_split\n",
        "from sklearn.linear_model import LinearRegression\n",
        "\n",
        "\n",
        "games = pandas.read_csv(\"games.csv\")\n",
        "\n",
        "print(games.columns)\n",
        "print(games.shape)\n",
        "\n",
        "\n",
        "plt.hist(games[\"average_rating\"])\n",
        "\n",
        "\n",
        "plt.show()"
      ],
      "execution_count": 0,
      "outputs": [
        {
          "output_type": "stream",
          "text": [
            "Index(['id', 'type', 'name', 'yearpublished', 'minplayers', 'maxplayers',\n",
            "       'playingtime', 'minplaytime', 'maxplaytime', 'minage', 'users_rated',\n",
            "       'average_rating', 'bayes_average_rating', 'total_owners',\n",
            "       'total_traders', 'total_wanters', 'total_wishers', 'total_comments',\n",
            "       'total_weights', 'average_weight'],\n",
            "      dtype='object')\n",
            "(61408, 20)\n"
          ],
          "name": "stdout"
        },
        {
          "output_type": "stream",
          "text": [
            "/usr/local/lib/python3.6/dist-packages/numpy/lib/function_base.py:780: RuntimeWarning: invalid value encountered in greater_equal\n",
            "  keep = (tmp_a >= first_edge)\n",
            "/usr/local/lib/python3.6/dist-packages/numpy/lib/function_base.py:781: RuntimeWarning: invalid value encountered in less_equal\n",
            "  keep &= (tmp_a <= last_edge)\n"
          ],
          "name": "stderr"
        },
        {
          "output_type": "display_data",
          "data": {
            "image/png": "[encoded data removed]",
            "text/plain": [
              "<Figure size 576x396 with 1 Axes>"
            ]
          },
          "metadata": {
            "tags": []
          }
        }
      ]
    },
    {
      "metadata": {
        "id": "xKWT6QieebWP",
        "colab_type": "code",
        "outputId": "b8512df6-e3c0-48b2-f9ba-89a4d27d3961",
        "colab": {
          "base_uri": "https://localhost:8080/",
          "height": 1061
        }
      },
      "cell_type": "code",
      "source": [
        "print(games[games[\"average_rating\"] == 0].iloc[0])\n",
        "\n",
        "print(games[games[\"average_rating\"] > 0].iloc[0])\n",
        "\n",
        "games = games[games[\"users_rated\"] > 0]\n",
        "games = games.dropna(axis=0)\n",
        "\n",
        "plt.hist(games[\"average_rating\"])\n",
        "\n",
        "plt.show()"
      ],
      "execution_count": 0,
      "outputs": [
        {
          "output_type": "stream",
          "text": [
            "id                             318\n",
            "type                     boardgame\n",
            "name                    Looney Leo\n",
            "yearpublished                    0\n",
            "minplayers                       0\n",
            "maxplayers                       0\n",
            "playingtime                      0\n",
            "minplaytime                      0\n",
            "maxplaytime                      0\n",
            "minage                           0\n",
            "users_rated                      0\n",
            "average_rating                   0\n",
            "bayes_average_rating             0\n",
            "total_owners                     0\n",
            "total_traders                    0\n",
            "total_wanters                    0\n",
            "total_wishers                    1\n",
            "total_comments                   0\n",
            "total_weights                    0\n",
            "average_weight                   0\n",
            "Name: 13048, dtype: object\n",
            "id                                  12333\n",
            "type                            boardgame\n",
            "name                    Twilight Struggle\n",
            "yearpublished                        2005\n",
            "minplayers                              2\n",
            "maxplayers                              2\n",
            "playingtime                           180\n",
            "minplaytime                           180\n",
            "maxplaytime                           180\n",
            "minage                                 13\n",
            "users_rated                         20113\n",
            "average_rating                    8.33774\n",
            "bayes_average_rating              8.22186\n",
            "total_owners                        26647\n",
            "total_traders                         372\n",
            "total_wanters                        1219\n",
            "total_wishers                        5865\n",
            "total_comments                       5347\n",
            "total_weights                        2562\n",
            "average_weight                     3.4785\n",
            "Name: 0, dtype: object\n"
          ],
          "name": "stdout"
        },
        {
          "output_type": "display_data",
          "data": {
            "image/png": "[encoded data removed]",
            "text/plain": [
              "<Figure size 576x396 with 1 Axes>"
            ]
          },
          "metadata": {
            "tags": []
          }
        }
      ]
    },
    {
      "metadata": {
        "id": "PBTWV21KeoQV",
        "colab_type": "code",
        "outputId": "067b0806-b11f-4c54-8457-c7eb931cc536",
        "colab": {
          "base_uri": "https://localhost:8080/",
          "height": 626
        }
      },
      "cell_type": "code",
      "source": [
        "corrmat = games.corr()\n",
        "fig = plt.figure(figsize = (12, 9))\n",
        "sns.heatmap(corrmat, vmax=.8, square=True);\n",
        "plt.show()"
      ],
      "execution_count": 0,
      "outputs": [
        {
          "output_type": "display_data",
          "data": {
            "image/png": "[encoded data removed]",
            "text/plain": [
              "<Figure size 864x648 with 2 Axes>"
            ]
          },
          "metadata": {
            "tags": []
          }
        }
      ]
    },
    {
      "metadata": {
        "id": "bDjmm531et7Y",
        "colab_type": "code",
        "colab": {}
      },
      "cell_type": "code",
      "source": [
        "columns = games.columns.tolist()\n",
        "\n",
        "columns = [c for c in columns if c not in [\"bayes_average_rating\", \"average_rating\", \"type\", \"name\", \"id\"]]\n",
        "\n",
        "target = \"average_rating\""
      ],
      "execution_count": 0,
      "outputs": []
    },
    {
      "metadata": {
        "id": "8t7OZc5hfv8q",
        "colab_type": "code",
        "outputId": "a1db0f14-78ca-4b08-a479-8b2050ea2e66",
        "colab": {
          "base_uri": "https://localhost:8080/",
          "height": 54
        }
      },
      "cell_type": "code",
      "source": [
        "from sklearn.model_selection import train_test_split\n",
        "\n",
        "train = games.sample(frac=0.8, random_state=1)\n",
        "\n",
        "test = games.loc[~games.index.isin(train.index)]\n",
        "print(train.shape)\n",
        "print(test.shape)"
      ],
      "execution_count": 0,
      "outputs": [
        {
          "output_type": "stream",
          "text": [
            "(36590, 20)\n",
            "(9148, 20)\n"
          ],
          "name": "stdout"
        }
      ]
    },
    {
      "metadata": {
        "id": "U_jNTG51ym74",
        "colab_type": "code",
        "outputId": "c034b936-4c8f-41c5-db1c-a2b69b1d1b5a",
        "colab": {
          "base_uri": "https://localhost:8080/",
          "height": 5745
        }
      },
      "cell_type": "code",
      "source": [
        "print(train[columns])\n",
        "print(train[target])"
      ],
      "execution_count": 0,
      "outputs": [
        {
          "output_type": "stream",
          "text": [
            "       yearpublished  minplayers  maxplayers  playingtime  minplaytime  \\\n",
            "50795         2009.0         2.0         2.0         10.0         10.0   \n",
            "16166         1995.0         2.0         2.0        360.0        360.0   \n",
            "25748         1964.0         2.0         4.0         30.0         30.0   \n",
            "50515         2010.0         0.0         0.0        900.0        900.0   \n",
            "23609         1998.0         2.0         6.0         90.0         90.0   \n",
            "37432         1974.0         2.0         2.0        120.0        120.0   \n",
            "30862            0.0         2.0         2.0         20.0         20.0   \n",
            "14596         1976.0         2.0         2.0        120.0        120.0   \n",
            "44475         1994.0         2.0         4.0          0.0          0.0   \n",
            "2632          1989.0         2.0         6.0         30.0         30.0   \n",
            "22809         1979.0         2.0         2.0          0.0          0.0   \n",
            "19195         1994.0         2.0         2.0         45.0         45.0   \n",
            "60289            0.0         4.0        10.0         60.0         60.0   \n",
            "7577          2005.0         2.0         6.0         45.0         45.0   \n",
            "5382          2003.0         2.0         5.0         20.0         20.0   \n",
            "6339          2009.0         2.0         4.0         30.0         30.0   \n",
            "12857         2006.0         2.0         6.0         30.0         30.0   \n",
            "2207          2007.0         3.0         5.0         90.0         90.0   \n",
            "37953            0.0         2.0         4.0          0.0          0.0   \n",
            "11581         1980.0         2.0         4.0         60.0         60.0   \n",
            "29568         1961.0         1.0         5.0          0.0          0.0   \n",
            "58786         2011.0         2.0        99.0          0.0          0.0   \n",
            "14032         1994.0         1.0         8.0        240.0        240.0   \n",
            "57985         2011.0         2.0         0.0         90.0         90.0   \n",
            "14643         1975.0         2.0         2.0         45.0         45.0   \n",
            "34166         1986.0         2.0         6.0          0.0          0.0   \n",
            "54878         1983.0         3.0         4.0         90.0         90.0   \n",
            "34574         1998.0         2.0         6.0          0.0          0.0   \n",
            "391           2014.0         2.0         2.0        240.0         90.0   \n",
            "6303          2000.0         2.0         7.0         20.0         20.0   \n",
            "...              ...         ...         ...          ...          ...   \n",
            "9094          1995.0         2.0         5.0         30.0         30.0   \n",
            "8317          1987.0         2.0         4.0         60.0         60.0   \n",
            "42111         2008.0         2.0         4.0         60.0         60.0   \n",
            "3319          2010.0         2.0         6.0         60.0         60.0   \n",
            "56148            0.0         2.0         0.0         10.0         10.0   \n",
            "7007          1973.0         2.0         2.0        180.0        180.0   \n",
            "21963         1992.0         2.0         2.0        240.0        240.0   \n",
            "7801          2015.0         1.0         2.0         10.0         10.0   \n",
            "19776            0.0         2.0         6.0        240.0        240.0   \n",
            "39959         1989.0         3.0         4.0         90.0         90.0   \n",
            "11987         1994.0         4.0        99.0         45.0         45.0   \n",
            "16346         1978.0         2.0         2.0        180.0        180.0   \n",
            "41594         2008.0         2.0         2.0         60.0         60.0   \n",
            "29137         2006.0         1.0         1.0         30.0         30.0   \n",
            "22891         1993.0         2.0         4.0         15.0         15.0   \n",
            "21272         1993.0         2.0         2.0        360.0        360.0   \n",
            "37383         2007.0         1.0         0.0        120.0        120.0   \n",
            "9155          1995.0         1.0         2.0        180.0        180.0   \n",
            "47318         2009.0         2.0         7.0         45.0         45.0   \n",
            "682           2012.0         2.0         2.0         75.0         75.0   \n",
            "29347         2003.0         2.0         4.0          0.0          0.0   \n",
            "56342            0.0         0.0         0.0          0.0          0.0   \n",
            "46487         2009.0         2.0         4.0         45.0         45.0   \n",
            "41745         1993.0         2.0         2.0         15.0         15.0   \n",
            "52744         2010.0         2.0         4.0         10.0         10.0   \n",
            "19127         2000.0         1.0         2.0         15.0         15.0   \n",
            "53169         2010.0         2.0         5.0         20.0         20.0   \n",
            "29015         2005.0         2.0         6.0        120.0        120.0   \n",
            "12247         1988.0         3.0         8.0         45.0         45.0   \n",
            "23316         2003.0         2.0         2.0         30.0         30.0   \n",
            "\n",
            "       maxplaytime  minage  users_rated  total_owners  total_traders  \\\n",
            "50795         10.0     7.0          1.0           1.0            0.0   \n",
            "16166        360.0    12.0         53.0         298.0            3.0   \n",
            "25748         30.0    10.0          2.0          11.0            2.0   \n",
            "50515        900.0     0.0          6.0          32.0            0.0   \n",
            "23609         90.0     8.0          5.0           5.0            0.0   \n",
            "37432        120.0     0.0          1.0          11.0            1.0   \n",
            "30862         20.0     3.0          3.0           6.0            1.0   \n",
            "14596        120.0     0.0          5.0          11.0            1.0   \n",
            "44475          0.0     0.0          1.0           4.0            2.0   \n",
            "2632          30.0    12.0       3479.0        3266.0          105.0   \n",
            "22809          0.0    12.0          3.0          19.0            2.0   \n",
            "19195         45.0     8.0         10.0          18.0            1.0   \n",
            "60289         60.0     8.0          2.0           1.0            0.0   \n",
            "7577          45.0    12.0        111.0         178.0            9.0   \n",
            "5382          20.0     6.0        425.0         808.0           77.0   \n",
            "6339          30.0     7.0        148.0         189.0            6.0   \n",
            "12857         30.0     8.0         84.0         170.0           13.0   \n",
            "2207          90.0    12.0       1929.0        2822.0           94.0   \n",
            "37953          0.0     5.0          3.0          10.0            0.0   \n",
            "11581         60.0    10.0         61.0         156.0            2.0   \n",
            "29568          0.0     8.0          5.0          22.0            3.0   \n",
            "58786          0.0     5.0          1.0           2.0            0.0   \n",
            "14032        240.0     9.0        298.0         532.0           21.0   \n",
            "57985         90.0    12.0          1.0           4.0            0.0   \n",
            "14643         45.0     8.0         19.0          70.0            8.0   \n",
            "34166          0.0     0.0          5.0          11.0            0.0   \n",
            "54878         90.0    14.0          2.0           6.0            1.0   \n",
            "34574          0.0     0.0          5.0          12.0            1.0   \n",
            "391          240.0    13.0        752.0        2122.0           23.0   \n",
            "6303          20.0     4.0        245.0         391.0           10.0   \n",
            "...            ...     ...          ...           ...            ...   \n",
            "9094          30.0     7.0        194.0         339.0           64.0   \n",
            "8317          60.0     6.0        238.0         436.0           37.0   \n",
            "42111         60.0     0.0          7.0          55.0           11.0   \n",
            "3319          60.0    10.0       1013.0        1266.0          108.0   \n",
            "56148         10.0     6.0          7.0          50.0            0.0   \n",
            "7007         180.0    12.0         64.0         150.0            7.0   \n",
            "21963        240.0    12.0         23.0          80.0            4.0   \n",
            "7801          10.0    13.0         70.0         206.0            9.0   \n",
            "19776        240.0    12.0          4.0           1.0            0.0   \n",
            "39959         90.0     0.0          1.0           4.0            0.0   \n",
            "11987         45.0    13.0         32.0          87.0           10.0   \n",
            "16346        180.0    12.0          6.0          10.0            0.0   \n",
            "41594         60.0     0.0         10.0          32.0            0.0   \n",
            "29137         30.0    12.0         12.0          80.0            2.0   \n",
            "22891         15.0     3.0          1.0           5.0            1.0   \n",
            "21272        360.0    12.0         34.0         121.0           11.0   \n",
            "37383        120.0     0.0          3.0          10.0            0.0   \n",
            "9155         180.0    12.0         38.0         162.0            8.0   \n",
            "47318         45.0    12.0          8.0          67.0            2.0   \n",
            "682           75.0    13.0        975.0        1535.0           69.0   \n",
            "29347          0.0     4.0          3.0          12.0            0.0   \n",
            "56342          0.0     0.0          1.0           2.0            0.0   \n",
            "46487         45.0    10.0         47.0         168.0            8.0   \n",
            "41745         15.0     0.0         29.0          53.0            3.0   \n",
            "52744         10.0    10.0          2.0          20.0            1.0   \n",
            "19127         15.0     3.0          9.0          33.0            3.0   \n",
            "53169         20.0    12.0         27.0          51.0            5.0   \n",
            "29015        120.0     8.0          3.0          16.0            0.0   \n",
            "12247         45.0    10.0         63.0         172.0           21.0   \n",
            "23316         30.0    12.0          2.0          10.0            0.0   \n",
            "\n",
            "       total_wanters  total_wishers  total_comments  total_weights  \\\n",
            "50795            0.0            0.0             1.0            0.0   \n",
            "16166           14.0           32.0            27.0            9.0   \n",
            "25748            0.0            1.0             2.0            1.0   \n",
            "50515            5.0           18.0             9.0            3.0   \n",
            "23609            0.0            1.0             4.0            0.0   \n",
            "37432            0.0            0.0             1.0            0.0   \n",
            "30862            1.0            1.0             1.0            0.0   \n",
            "14596            0.0            2.0             1.0            0.0   \n",
            "44475            2.0            2.0             1.0            0.0   \n",
            "2632           234.0          614.0          1291.0          420.0   \n",
            "22809            1.0            4.0             2.0            1.0   \n",
            "19195            1.0            6.0             5.0            2.0   \n",
            "60289            0.0            0.0             0.0            0.0   \n",
            "7577            10.0           25.0            52.0           12.0   \n",
            "5382            19.0           64.0           216.0           65.0   \n",
            "6339             5.0           12.0            29.0           11.0   \n",
            "12857            0.0            1.0            39.0            4.0   \n",
            "2207           288.0          852.0           626.0          178.0   \n",
            "37953            0.0            1.0             5.0            1.0   \n",
            "11581            1.0            6.0            35.0            7.0   \n",
            "29568            5.0            7.0             9.0            1.0   \n",
            "58786            0.0            0.0             1.0            0.0   \n",
            "14032           46.0           37.0            84.0           28.0   \n",
            "57985            0.0            0.0             0.0            0.0   \n",
            "14643            7.0            6.0            16.0            3.0   \n",
            "34166            1.0            1.0             1.0            1.0   \n",
            "54878            0.0            0.0             0.0            0.0   \n",
            "34574            0.0            0.0             3.0            0.0   \n",
            "391            378.0         1325.0           217.0           82.0   \n",
            "6303            15.0           44.0           121.0           36.0   \n",
            "...              ...            ...             ...            ...   \n",
            "9094            12.0           15.0            91.0           27.0   \n",
            "8317            11.0           16.0            88.0           21.0   \n",
            "42111            1.0            6.0             4.0            2.0   \n",
            "3319            43.0          174.0           368.0          104.0   \n",
            "56148            1.0            2.0             3.0            0.0   \n",
            "7007            14.0           22.0            40.0           10.0   \n",
            "21963            3.0            3.0             8.0            3.0   \n",
            "7801             8.0           41.0            40.0            8.0   \n",
            "19776            7.0           32.0             5.0            1.0   \n",
            "39959            1.0            0.0             2.0            0.0   \n",
            "11987            0.0            0.0            18.0            1.0   \n",
            "16346            0.0            0.0             2.0            1.0   \n",
            "41594           11.0           20.0             6.0            0.0   \n",
            "29137            1.0            1.0            11.0            3.0   \n",
            "22891            0.0            0.0             1.0            1.0   \n",
            "21272            7.0            6.0            24.0            9.0   \n",
            "37383            1.0            1.0             1.0            0.0   \n",
            "9155            13.0           15.0            21.0            7.0   \n",
            "47318            5.0           18.0             5.0            2.0   \n",
            "682            100.0          378.0           319.0          100.0   \n",
            "29347            0.0            0.0             2.0            1.0   \n",
            "56342            0.0            1.0             0.0            0.0   \n",
            "46487           15.0           27.0            38.0           11.0   \n",
            "41745            3.0            9.0            15.0            3.0   \n",
            "52744            0.0            4.0             0.0            0.0   \n",
            "19127            0.0            0.0             7.0            0.0   \n",
            "53169            0.0            9.0             9.0            0.0   \n",
            "29015            1.0            2.0             4.0            0.0   \n",
            "12247            0.0            2.0            29.0            5.0   \n",
            "23316            0.0            3.0             1.0            0.0   \n",
            "\n",
            "       average_weight  \n",
            "50795          0.0000  \n",
            "16166          2.8889  \n",
            "25748          1.0000  \n",
            "50515          3.0000  \n",
            "23609          0.0000  \n",
            "37432          0.0000  \n",
            "30862          0.0000  \n",
            "14596          0.0000  \n",
            "44475          0.0000  \n",
            "2632           1.3643  \n",
            "22809          1.0000  \n",
            "19195          2.0000  \n",
            "60289          0.0000  \n",
            "7577           1.5000  \n",
            "5382           1.2462  \n",
            "6339           2.0909  \n",
            "12857          2.2500  \n",
            "2207           2.8034  \n",
            "37953          1.0000  \n",
            "11581          2.0000  \n",
            "29568          2.0000  \n",
            "58786          0.0000  \n",
            "14032          1.9643  \n",
            "57985          0.0000  \n",
            "14643          1.0000  \n",
            "34166          2.0000  \n",
            "54878          0.0000  \n",
            "34574          0.0000  \n",
            "391            3.5244  \n",
            "6303           1.0278  \n",
            "...               ...  \n",
            "9094           2.6667  \n",
            "8317           1.4286  \n",
            "42111          1.5000  \n",
            "3319           1.8365  \n",
            "56148          0.0000  \n",
            "7007           2.4000  \n",
            "21963          3.6667  \n",
            "7801           1.1250  \n",
            "19776          2.0000  \n",
            "39959          0.0000  \n",
            "11987          2.0000  \n",
            "16346          4.0000  \n",
            "41594          0.0000  \n",
            "29137          1.0000  \n",
            "22891          1.0000  \n",
            "21272          3.4444  \n",
            "37383          0.0000  \n",
            "9155           2.8571  \n",
            "47318          1.5000  \n",
            "682            2.8200  \n",
            "29347          1.0000  \n",
            "56342          0.0000  \n",
            "46487          3.2727  \n",
            "41745          1.3333  \n",
            "52744          0.0000  \n",
            "19127          0.0000  \n",
            "53169          0.0000  \n",
            "29015          0.0000  \n",
            "12247          1.4000  \n",
            "23316          0.0000  \n",
            "\n",
            "[36590 rows x 15 columns]\n",
            "50795    6.00000\n",
            "16166    7.49434\n",
            "25748    3.25000\n",
            "50515    7.91667\n",
            "23609    2.80000\n",
            "37432    7.00000\n",
            "30862    4.33333\n",
            "14596    5.10000\n",
            "44475    7.50000\n",
            "2632     6.63909\n",
            "22809    6.33333\n",
            "19195    6.39000\n",
            "60289    4.62500\n",
            "7577     6.07342\n",
            "5382     6.03798\n",
            "6339     6.25932\n",
            "12857    3.71429\n",
            "2207     7.33077\n",
            "37953    6.00000\n",
            "11581    5.19607\n",
            "29568    6.30000\n",
            "58786    4.00000\n",
            "14032    6.75570\n",
            "57985    6.00000\n",
            "14643    5.30263\n",
            "34166    6.30000\n",
            "54878    7.00000\n",
            "34574    5.60000\n",
            "391      8.20931\n",
            "6303     6.00286\n",
            "          ...   \n",
            "9094     5.85513\n",
            "8317     5.76420\n",
            "42111    6.28571\n",
            "3319     6.51271\n",
            "56148    5.35714\n",
            "7007     6.74375\n",
            "21963    7.09130\n",
            "7801     6.74943\n",
            "19776    7.75000\n",
            "39959    6.00000\n",
            "11987    4.53125\n",
            "16346    4.50000\n",
            "41594    6.50000\n",
            "29137    5.83333\n",
            "22891    5.00000\n",
            "21272    6.41176\n",
            "37383    6.66667\n",
            "9155     6.43684\n",
            "47318    6.87500\n",
            "682      7.29832\n",
            "29347    4.66667\n",
            "56342    6.70000\n",
            "46487    6.76809\n",
            "41745    6.73448\n",
            "52744    7.00000\n",
            "19127    4.00000\n",
            "53169    4.89630\n",
            "29015    3.66667\n",
            "12247    4.78095\n",
            "23316    2.00000\n",
            "Name: average_rating, Length: 36590, dtype: float64\n"
          ],
          "name": "stdout"
        }
      ]
    },
    {
      "metadata": {
        "id": "Zj6mjv7xgRHO",
        "colab_type": "code",
        "colab": {}
      },
      "cell_type": "code",
      "source": [
        "import keras\n",
        "from keras.models import Sequential\n",
        "from keras.layers import Dense"
      ],
      "execution_count": 0,
      "outputs": []
    },
    {
      "metadata": {
        "id": "q0PMXyeXgZvG",
        "colab_type": "code",
        "colab": {}
      },
      "cell_type": "code",
      "source": [
        "classifier=Sequential()"
      ],
      "execution_count": 0,
      "outputs": []
    },
    {
      "metadata": {
        "id": "vziFElKXgdS-",
        "colab_type": "code",
        "outputId": "f53bdcdb-9321-406f-8afe-25b099b9a9a7",
        "colab": {
          "base_uri": "https://localhost:8080/",
          "height": 74
        }
      },
      "cell_type": "code",
      "source": [
        "classifier.add(Dense(output_dim=8,init='uniform',activation='relu',input_dim=15))"
      ],
      "execution_count": 0,
      "outputs": [
        {
          "output_type": "stream",
          "text": [
            "/usr/local/lib/python3.6/dist-packages/ipykernel_launcher.py:1: UserWarning: Update your `Dense` call to the Keras 2 API: `Dense(activation=\"relu\", input_dim=15, units=8, kernel_initializer=\"uniform\")`\n",
            "  \"\"\"Entry point for launching an IPython kernel.\n"
          ],
          "name": "stderr"
        }
      ]
    },
    {
      "metadata": {
        "id": "aaMJcnSsgg2r",
        "colab_type": "code",
        "outputId": "016c5807-c2d6-407a-f099-858f8b1646db",
        "colab": {
          "base_uri": "https://localhost:8080/",
          "height": 74
        }
      },
      "cell_type": "code",
      "source": [
        "classifier.add(Dense(output_dim=8,init='uniform',activation='relu'))"
      ],
      "execution_count": 0,
      "outputs": [
        {
          "output_type": "stream",
          "text": [
            "/usr/local/lib/python3.6/dist-packages/ipykernel_launcher.py:1: UserWarning: Update your `Dense` call to the Keras 2 API: `Dense(activation=\"relu\", units=8, kernel_initializer=\"uniform\")`\n",
            "  \"\"\"Entry point for launching an IPython kernel.\n"
          ],
          "name": "stderr"
        }
      ]
    },
    {
      "metadata": {
        "id": "GuphNVGAglk1",
        "colab_type": "code",
        "outputId": "0f77e6d0-fc1c-4df3-c11e-6c9ee7c3cef2",
        "colab": {
          "base_uri": "https://localhost:8080/",
          "height": 74
        }
      },
      "cell_type": "code",
      "source": [
        "classifier.add(Dense(output_dim=1,init='uniform',activation='sigmoid'))"
      ],
      "execution_count": 0,
      "outputs": [
        {
          "output_type": "stream",
          "text": [
            "/usr/local/lib/python3.6/dist-packages/ipykernel_launcher.py:1: UserWarning: Update your `Dense` call to the Keras 2 API: `Dense(activation=\"sigmoid\", units=1, kernel_initializer=\"uniform\")`\n",
            "  \"\"\"Entry point for launching an IPython kernel.\n"
          ],
          "name": "stderr"
        }
      ]
    },
    {
      "metadata": {
        "id": "Vefo398Bgreg",
        "colab_type": "code",
        "colab": {}
      },
      "cell_type": "code",
      "source": [
        "classifier.compile(optimizer='adam',loss='binary_crossentropy',metrics=['accuracy'])"
      ],
      "execution_count": 0,
      "outputs": []
    },
    {
      "metadata": {
        "id": "MR5-Pc6ogvGu",
        "colab_type": "code",
        "outputId": "dfa18396-f158-46e4-c33f-ef5cfe952aad",
        "colab": {
          "base_uri": "https://localhost:8080/",
          "height": 3728
        }
      },
      "cell_type": "code",
      "source": [
        "classifier.fit(train[columns],train[target],batch_size=10,nb_epoch=100)"
      ],
      "execution_count": 0,
      "outputs": [
        {
          "output_type": "stream",
          "text": [
            "/usr/local/lib/python3.6/dist-packages/ipykernel_launcher.py:1: UserWarning: The `nb_epoch` argument in `fit` has been renamed `epochs`.\n",
            "  \"\"\"Entry point for launching an IPython kernel.\n"
          ],
          "name": "stderr"
        },
        {
          "output_type": "stream",
          "text": [
            "Epoch 1/100\n",
            "36590/36590 [==============================] - 16s 439us/step - loss: -75.6931 - acc: 0.0083\n",
            "Epoch 2/100\n",
            "36590/36590 [==============================] - 16s 433us/step - loss: -76.9404 - acc: 0.0083\n",
            "Epoch 3/100\n",
            "36590/36590 [==============================] - 16s 437us/step - loss: -76.9443 - acc: 0.0083\n",
            "Epoch 4/100\n",
            "36590/36590 [==============================] - 16s 438us/step - loss: -76.9444 - acc: 0.0083\n",
            "Epoch 5/100\n",
            "36590/36590 [==============================] - 16s 437us/step - loss: -76.9444 - acc: 0.0083\n",
            "Epoch 6/100\n",
            "36590/36590 [==============================] - 16s 435us/step - loss: -76.9444 - acc: 0.0083\n",
            "Epoch 7/100\n",
            "36590/36590 [==============================] - 16s 435us/step - loss: -76.9444 - acc: 0.0083\n",
            "Epoch 8/100\n",
            "36590/36590 [==============================] - 16s 435us/step - loss: -76.9444 - acc: 0.0083\n",
            "Epoch 9/100\n",
            "36590/36590 [==============================] - 16s 434us/step - loss: -76.9444 - acc: 0.0083\n",
            "Epoch 10/100\n",
            "36590/36590 [==============================] - 16s 429us/step - loss: -76.9444 - acc: 0.0083\n",
            "Epoch 11/100\n",
            "36590/36590 [==============================] - 16s 425us/step - loss: -76.9444 - acc: 0.0083\n",
            "Epoch 12/100\n",
            "36590/36590 [==============================] - 16s 424us/step - loss: -76.9444 - acc: 0.0083\n",
            "Epoch 13/100\n",
            "36590/36590 [==============================] - 16s 430us/step - loss: -76.9444 - acc: 0.0083\n",
            "Epoch 14/100\n",
            "36590/36590 [==============================] - 16s 433us/step - loss: -76.9444 - acc: 0.0083\n",
            "Epoch 15/100\n",
            "36590/36590 [==============================] - 16s 435us/step - loss: -76.9444 - acc: 0.0083\n",
            "Epoch 16/100\n",
            "36590/36590 [==============================] - 16s 437us/step - loss: -76.9444 - acc: 0.0083\n",
            "Epoch 17/100\n",
            "36590/36590 [==============================] - 16s 437us/step - loss: -76.9444 - acc: 0.0083\n",
            "Epoch 18/100\n",
            "36590/36590 [==============================] - 16s 436us/step - loss: -76.9444 - acc: 0.0083\n",
            "Epoch 19/100\n",
            "36590/36590 [==============================] - 16s 437us/step - loss: -76.9444 - acc: 0.0083\n",
            "Epoch 20/100\n",
            "36590/36590 [==============================] - 16s 438us/step - loss: -76.9444 - acc: 0.0083\n",
            "Epoch 21/100\n",
            "36590/36590 [==============================] - 16s 436us/step - loss: -76.9444 - acc: 0.0083\n",
            "Epoch 22/100\n",
            "36590/36590 [==============================] - 16s 439us/step - loss: -76.9444 - acc: 0.0083\n",
            "Epoch 23/100\n",
            "36590/36590 [==============================] - 16s 437us/step - loss: -76.9444 - acc: 0.0083\n",
            "Epoch 24/100\n",
            "36590/36590 [==============================] - 16s 435us/step - loss: -76.9444 - acc: 0.0083\n",
            "Epoch 25/100\n",
            "36590/36590 [==============================] - 16s 434us/step - loss: -76.9444 - acc: 0.0083\n",
            "Epoch 26/100\n",
            "36590/36590 [==============================] - 16s 437us/step - loss: -76.9444 - acc: 0.0083\n",
            "Epoch 27/100\n",
            "36590/36590 [==============================] - 16s 435us/step - loss: -76.9444 - acc: 0.0083\n",
            "Epoch 28/100\n",
            "36590/36590 [==============================] - 16s 435us/step - loss: -76.9444 - acc: 0.0083\n",
            "Epoch 29/100\n",
            "36590/36590 [==============================] - 16s 436us/step - loss: -76.9444 - acc: 0.0083\n",
            "Epoch 30/100\n",
            "36590/36590 [==============================] - 16s 435us/step - loss: -76.9444 - acc: 0.0083\n",
            "Epoch 31/100\n",
            "36590/36590 [==============================] - 16s 436us/step - loss: -76.9444 - acc: 0.0083\n",
            "Epoch 32/100\n",
            "36590/36590 [==============================] - 16s 434us/step - loss: -76.9444 - acc: 0.0083\n",
            "Epoch 33/100\n",
            "36590/36590 [==============================] - 16s 435us/step - loss: -76.9444 - acc: 0.0083\n",
            "Epoch 34/100\n",
            "36590/36590 [==============================] - 16s 435us/step - loss: -76.9444 - acc: 0.0083\n",
            "Epoch 35/100\n",
            "36590/36590 [==============================] - 16s 436us/step - loss: -76.9444 - acc: 0.0083\n",
            "Epoch 36/100\n",
            "36590/36590 [==============================] - 16s 435us/step - loss: -76.9444 - acc: 0.0083\n",
            "Epoch 37/100\n",
            "36590/36590 [==============================] - 16s 432us/step - loss: -76.9444 - acc: 0.0083\n",
            "Epoch 38/100\n",
            "36590/36590 [==============================] - 16s 433us/step - loss: -76.9444 - acc: 0.0083\n",
            "Epoch 39/100\n",
            "36590/36590 [==============================] - 16s 435us/step - loss: -76.9444 - acc: 0.0083\n",
            "Epoch 40/100\n",
            "36590/36590 [==============================] - 16s 434us/step - loss: -76.9444 - acc: 0.0083\n",
            "Epoch 41/100\n",
            "36590/36590 [==============================] - 16s 435us/step - loss: -76.9444 - acc: 0.0083\n",
            "Epoch 42/100\n",
            "36590/36590 [==============================] - 16s 434us/step - loss: -76.9444 - acc: 0.0083\n",
            "Epoch 43/100\n",
            "36590/36590 [==============================] - 16s 432us/step - loss: -76.9444 - acc: 0.0083\n",
            "Epoch 44/100\n",
            "36590/36590 [==============================] - 16s 429us/step - loss: -76.9444 - acc: 0.0083\n",
            "Epoch 45/100\n",
            "36590/36590 [==============================] - 15s 421us/step - loss: -76.9444 - acc: 0.0083\n",
            "Epoch 46/100\n",
            "36590/36590 [==============================] - 15s 423us/step - loss: -76.9444 - acc: 0.0083\n",
            "Epoch 47/100\n",
            "36590/36590 [==============================] - 16s 427us/step - loss: -76.9444 - acc: 0.0083\n",
            "Epoch 48/100\n",
            "36590/36590 [==============================] - 16s 431us/step - loss: -76.9444 - acc: 0.0083\n",
            "Epoch 49/100\n",
            "36590/36590 [==============================] - 16s 434us/step - loss: -76.9444 - acc: 0.0083\n",
            "Epoch 50/100\n",
            "36590/36590 [==============================] - 16s 427us/step - loss: -76.9444 - acc: 0.0083\n",
            "Epoch 51/100\n",
            "36590/36590 [==============================] - 16s 430us/step - loss: -76.9444 - acc: 0.0083\n",
            "Epoch 52/100\n",
            "36590/36590 [==============================] - 16s 429us/step - loss: -76.9444 - acc: 0.0083\n",
            "Epoch 53/100\n",
            "36590/36590 [==============================] - 16s 428us/step - loss: -76.9444 - acc: 0.0083\n",
            "Epoch 54/100\n",
            "36590/36590 [==============================] - 16s 429us/step - loss: -76.9444 - acc: 0.0083\n",
            "Epoch 55/100\n",
            "36590/36590 [==============================] - 16s 432us/step - loss: -76.9444 - acc: 0.0083\n",
            "Epoch 56/100\n",
            "36590/36590 [==============================] - 16s 426us/step - loss: -76.9444 - acc: 0.0083\n",
            "Epoch 57/100\n",
            "36590/36590 [==============================] - 16s 427us/step - loss: -76.9444 - acc: 0.0083\n",
            "Epoch 58/100\n",
            "36590/36590 [==============================] - 16s 431us/step - loss: -76.9444 - acc: 0.0083\n",
            "Epoch 59/100\n",
            "36590/36590 [==============================] - 16s 425us/step - loss: -76.9444 - acc: 0.0083\n",
            "Epoch 60/100\n",
            "36590/36590 [==============================] - 16s 430us/step - loss: -76.9444 - acc: 0.0083\n",
            "Epoch 61/100\n",
            "36590/36590 [==============================] - 16s 428us/step - loss: -76.9444 - acc: 0.0083\n",
            "Epoch 62/100\n",
            "36590/36590 [==============================] - 16s 426us/step - loss: -76.9444 - acc: 0.0083\n",
            "Epoch 63/100\n",
            "36590/36590 [==============================] - 15s 419us/step - loss: -76.9444 - acc: 0.0083\n",
            "Epoch 64/100\n",
            "36590/36590 [==============================] - 15s 420us/step - loss: -76.9444 - acc: 0.0083\n",
            "Epoch 65/100\n",
            "36590/36590 [==============================] - 16s 429us/step - loss: -76.9444 - acc: 0.0083\n",
            "Epoch 66/100\n",
            "36590/36590 [==============================] - 16s 428us/step - loss: -76.9444 - acc: 0.0083\n",
            "Epoch 67/100\n",
            "36590/36590 [==============================] - 16s 427us/step - loss: -76.9444 - acc: 0.0083\n",
            "Epoch 68/100\n",
            "36590/36590 [==============================] - 16s 427us/step - loss: -76.9444 - acc: 0.0083\n",
            "Epoch 69/100\n",
            "36590/36590 [==============================] - 16s 428us/step - loss: -76.9444 - acc: 0.0083\n",
            "Epoch 70/100\n",
            "36590/36590 [==============================] - 16s 426us/step - loss: -76.9444 - acc: 0.0083\n",
            "Epoch 71/100\n",
            "36590/36590 [==============================] - 16s 428us/step - loss: -76.9444 - acc: 0.0083\n",
            "Epoch 72/100\n",
            "36590/36590 [==============================] - 16s 434us/step - loss: -76.9444 - acc: 0.0083\n",
            "Epoch 73/100\n",
            "36590/36590 [==============================] - 16s 433us/step - loss: -76.9444 - acc: 0.0083\n",
            "Epoch 74/100\n",
            "36590/36590 [==============================] - 16s 434us/step - loss: -76.9444 - acc: 0.0083\n",
            "Epoch 75/100\n",
            "36590/36590 [==============================] - 16s 433us/step - loss: -76.9444 - acc: 0.0083\n",
            "Epoch 76/100\n",
            "36590/36590 [==============================] - 16s 434us/step - loss: -76.9444 - acc: 0.0083\n",
            "Epoch 77/100\n",
            "36590/36590 [==============================] - 16s 434us/step - loss: -76.9444 - acc: 0.0083\n",
            "Epoch 78/100\n",
            "36590/36590 [==============================] - 16s 433us/step - loss: -76.9444 - acc: 0.0083\n",
            "Epoch 79/100\n",
            "36590/36590 [==============================] - 16s 427us/step - loss: -76.9444 - acc: 0.0083\n",
            "Epoch 80/100\n",
            "36590/36590 [==============================] - 16s 432us/step - loss: -76.9444 - acc: 0.0083\n",
            "Epoch 81/100\n",
            "36590/36590 [==============================] - 15s 419us/step - loss: -76.9444 - acc: 0.0083\n",
            "Epoch 82/100\n",
            "36590/36590 [==============================] - 15s 419us/step - loss: -76.9444 - acc: 0.0083\n",
            "Epoch 83/100\n",
            "36590/36590 [==============================] - 16s 434us/step - loss: -76.9444 - acc: 0.0083\n",
            "Epoch 84/100\n",
            "36590/36590 [==============================] - 16s 429us/step - loss: -76.9444 - acc: 0.0083\n",
            "Epoch 85/100\n",
            "36590/36590 [==============================] - 16s 430us/step - loss: -76.9444 - acc: 0.0083\n",
            "Epoch 86/100\n",
            "36590/36590 [==============================] - 16s 425us/step - loss: -76.9444 - acc: 0.0083\n",
            "Epoch 87/100\n",
            "36590/36590 [==============================] - 16s 427us/step - loss: -76.9444 - acc: 0.0083\n",
            "Epoch 88/100\n",
            "36590/36590 [==============================] - 15s 423us/step - loss: -76.9444 - acc: 0.0083\n",
            "Epoch 89/100\n",
            "36590/36590 [==============================] - 16s 425us/step - loss: -76.9444 - acc: 0.0083\n",
            "Epoch 90/100\n",
            "36590/36590 [==============================] - 16s 427us/step - loss: -76.9444 - acc: 0.0083\n",
            "Epoch 91/100\n",
            "36590/36590 [==============================] - 16s 425us/step - loss: -76.9444 - acc: 0.0083\n",
            "Epoch 92/100\n",
            "36590/36590 [==============================] - 16s 425us/step - loss: -76.9444 - acc: 0.0083\n",
            "Epoch 93/100\n",
            "36590/36590 [==============================] - 16s 425us/step - loss: -76.9444 - acc: 0.0083\n",
            "Epoch 94/100\n",
            "36590/36590 [==============================] - 15s 423us/step - loss: -76.9444 - acc: 0.0083\n",
            "Epoch 95/100\n",
            "36590/36590 [==============================] - 15s 423us/step - loss: -76.9444 - acc: 0.0083\n",
            "Epoch 96/100\n",
            "36590/36590 [==============================] - 15s 412us/step - loss: -76.9444 - acc: 0.0083\n",
            "Epoch 97/100\n",
            "36590/36590 [==============================] - 15s 417us/step - loss: -76.9444 - acc: 0.0083\n",
            "Epoch 98/100\n",
            "36590/36590 [==============================] - 15s 421us/step - loss: -76.9444 - acc: 0.0083\n",
            "Epoch 99/100\n",
            "36590/36590 [==============================] - 15s 421us/step - loss: -76.9444 - acc: 0.0083\n",
            "Epoch 100/100\n",
            "36590/36590 [==============================] - 16s 425us/step - loss: -76.9444 - acc: 0.0083\n"
          ],
          "name": "stdout"
        },
        {
          "output_type": "execute_result",
          "data": {
            "text/plain": [
              "<keras.callbacks.History at 0x7fed7b51a400>"
            ]
          },
          "metadata": {
            "tags": []
          },
          "execution_count": 50
        }
      ]
    }
  ]
}